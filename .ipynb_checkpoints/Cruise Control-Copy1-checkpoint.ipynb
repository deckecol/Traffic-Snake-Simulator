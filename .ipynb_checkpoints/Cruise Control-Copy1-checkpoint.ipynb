{
 "cells": [
  {
   "cell_type": "code",
   "execution_count": 4,
   "id": "900171d4",
   "metadata": {},
   "outputs": [],
   "source": [
    "import numpy as np\n",
    "import matplotlib.pyplot as plt\n",
    "import pandas as pd\n",
    "import time"
   ]
  },
  {
   "cell_type": "code",
   "execution_count": 5,
   "id": "e744f47c",
   "metadata": {},
   "outputs": [],
   "source": [
    "#Mimic Traffic Snake Loop?"
   ]
  },
  {
   "cell_type": "markdown",
   "id": "0fc99935",
   "metadata": {},
   "source": [
    "We will be working in the 2-D Plane First (Top-Down View). Each car needs an x-y position and possibly an orientation for multiple lanes."
   ]
  },
  {
   "cell_type": "code",
   "execution_count": 6,
   "id": "ace0e4f9",
   "metadata": {},
   "outputs": [
    {
     "ename": "SyntaxError",
     "evalue": "invalid syntax (1828153761.py, line 16)",
     "output_type": "error",
     "traceback": [
      "\u001b[1;36m  File \u001b[1;32m\"C:\\Users\\thaib\\AppData\\Local\\Temp\\ipykernel_15496\\1828153761.py\"\u001b[1;36m, line \u001b[1;32m16\u001b[0m\n\u001b[1;33m    if car_type = 'Sedan':\u001b[0m\n\u001b[1;37m                ^\u001b[0m\n\u001b[1;31mSyntaxError\u001b[0m\u001b[1;31m:\u001b[0m invalid syntax\n"
     ]
    }
   ],
   "source": [
    "class Car:   #instantiates a car class\n",
    "    #desired parameters: speed, distance to slow, reaction time,,brake condition\n",
    "    \n",
    "    def __init__(self, \n",
    "                 speed, \n",
    "                 follow_distance, \n",
    "                 reaction_time = 250e-3, \n",
    "                 brake_condition = 1,\n",
    "                 car_type = 'Kei Tora'\n",
    "                ):\n",
    "        self.speed = speed #m/s\n",
    "        self.follow_distance = follow_distance #m\n",
    "        self.reaction_time = reaction_time #s\n",
    "        self.brake_condition = brake_condition #0 - 1\n",
    "        self.car_list = ['Sedan', 'SUV', 'Truck', 'Semi', 'Kei Tora']\n",
    "        \n",
    "        if car_type = 'Sedan':\n",
    "            self.length = 4.9\n",
    "            self.width = 1.94\n",
    "            self.height = 1.8\n",
    "        \n",
    "        elif car_type = 'SUV':\n",
    "            self.length = 5.0\n",
    "            self.width = 2.0\n",
    "            self.height = 1.8\n",
    "        \n",
    "        elif car_type = 'Truck':\n",
    "            self.length = 5.5\n",
    "            self.width = 2.0\n",
    "            self.height = 2.0\n",
    "        \n",
    "        elif car_type = 'Semi':\n",
    "            self.length  = 13.60\n",
    "            self.width = 2.5\n",
    "            self.height = 3.0\n",
    "        \n",
    "        elif car_type = 'Kei Tora':\n",
    "            #dimensions in meters\n",
    "            self.length = 3.4\n",
    "            self.width = 1.48\n",
    "            self.height = 2.0\n",
    "    \n",
    "    # define a radar/raycast to detect an object in front of it.\n",
    "    def radar(self, frequency = 36e9, effective_range = 3*self.length):\n",
    "        radar_position = (self.length, self.width/2)\n",
    "        ping_speed = 299792458 #m/s\n",
    "        \n",
    "        "
   ]
  },
  {
   "cell_type": "code",
   "execution_count": null,
   "id": "dd54b56c",
   "metadata": {},
   "outputs": [],
   "source": []
  }
 ],
 "metadata": {
  "kernelspec": {
   "display_name": "Python 3 (ipykernel)",
   "language": "python",
   "name": "python3"
  },
  "language_info": {
   "codemirror_mode": {
    "name": "ipython",
    "version": 3
   },
   "file_extension": ".py",
   "mimetype": "text/x-python",
   "name": "python",
   "nbconvert_exporter": "python",
   "pygments_lexer": "ipython3",
   "version": "3.9.13"
  }
 },
 "nbformat": 4,
 "nbformat_minor": 5
}
